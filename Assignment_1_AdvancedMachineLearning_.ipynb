{
  "nbformat": 4,
  "nbformat_minor": 0,
  "metadata": {
    "colab": {
      "provenance": [],
      "authorship_tag": "ABX9TyNyuuue/OgGVPEAjHirpi2l",
      "include_colab_link": true
    },
    "kernelspec": {
      "name": "python3",
      "display_name": "Python 3"
    },
    "language_info": {
      "name": "python"
    }
  },
  "cells": [
    {
      "cell_type": "markdown",
      "metadata": {
        "id": "view-in-github",
        "colab_type": "text"
      },
      "source": [
        "<a href=\"https://colab.research.google.com/github/ADITIGHANATHE/AML/blob/main/Assignment_1_AdvancedMachineLearning_.ipynb\" target=\"_parent\"><img src=\"https://colab.research.google.com/assets/colab-badge.svg\" alt=\"Open In Colab\"/></a>"
      ]
    },
    {
      "cell_type": "code",
      "execution_count": null,
      "metadata": {
        "colab": {
          "base_uri": "https://localhost:8080/"
        },
        "id": "6CJ83mK1cAym",
        "outputId": "ec4f2617-5cdb-423f-9548-d614c8de4ab3"
      },
      "outputs": [
        {
          "output_type": "stream",
          "name": "stdout",
          "text": [
            "Downloading data from https://storage.googleapis.com/tensorflow/tf-keras-datasets/imdb.npz\n",
            "17464789/17464789 [==============================] - 0s 0us/step\n"
          ]
        }
      ],
      "source": [
        "\n",
        "                                                         # Advanced Machine Learning\n",
        "                                                       # Assignment 1 - Neural Network\n",
        "                                                            # Name: Aditi Ghanathe\n",
        "                                                           # student id : 811240551\n",
        "                                              ##################################################\n",
        "\n",
        "# Using the IMDB data set\n",
        "\n",
        "from tensorflow.keras.datasets import imdb\n",
        "(train_data, train_labels), (test_data, test_labels) = imdb.load_data(num_words=10000)"
      ]
    },
    {
      "cell_type": "code",
      "source": [
        "# Encoding the integer sequences via multi-hot encoding\n",
        "\n",
        "import numpy as np\n",
        "def vectorize_sequences(sequences, dimension=10000):\n",
        "    results = np.zeros((len(sequences), dimension))\n",
        "    for i, sequence in enumerate(sequences):\n",
        "        for j in sequence:\n",
        "            results[i, j] = 1.\n",
        "    return results"
      ],
      "metadata": {
        "id": "K_Ph1Y0PcPMg"
      },
      "execution_count": null,
      "outputs": []
    },
    {
      "cell_type": "code",
      "source": [
        "# Storing input data in vectors\n",
        "\n",
        "x_train = vectorize_sequences(train_data)\n",
        "x_test = vectorize_sequences(test_data)"
      ],
      "metadata": {
        "id": "SM7u0nCScqra"
      },
      "execution_count": null,
      "outputs": []
    },
    {
      "cell_type": "code",
      "source": [
        "# Converting output lables into floating-point numerical values\n",
        "\n",
        "y_train = np.asarray(train_labels).astype(\"float32\")\n",
        "y_test = np.asarray(test_labels).astype(\"float32\")\n"
      ],
      "metadata": {
        "id": "_LhsDpyedvE7"
      },
      "execution_count": null,
      "outputs": []
    },
    {
      "cell_type": "code",
      "source": [
        "# Setting aside a validation set\n",
        "\n",
        "x_val = x_train[:10000]\n",
        "partial_x_train = x_train[10000:]\n",
        "y_val = y_train[:10000]\n",
        "partial_y_train = y_train[10000:]"
      ],
      "metadata": {
        "id": "g1QOyprud4WZ"
      },
      "execution_count": null,
      "outputs": []
    },
    {
      "cell_type": "code",
      "source": [
        "# Model information\n",
        "\n",
        "from tensorflow import keras\n",
        "from tensorflow.keras import layers\n",
        "from tensorflow.keras import regularizers\n",
        "\n",
        "# Model from textbook example\n",
        "\n",
        "model = keras.Sequential([\n",
        "    layers.Dense(16, activation=\"relu\"),\n",
        "    layers.Dense(16, activation=\"relu\"),\n",
        "    layers.Dense(1, activation=\"sigmoid\")\n",
        "])\n",
        "\n",
        "# Model using different number of layers (1,2,3,4)\n",
        "\n",
        "# model = keras.Sequential([\n",
        "#     layers.Dense(16, activation=\"relu\"),\n",
        "#     layers.Dense(16, activation=\"relu\"),\n",
        "#     layers.Dense(16, activation=\"relu\"),\n",
        "#     layers.Dense(16, activation=\"relu\"),\n",
        "#     layers.Dense(1, activation=\"sigmoid\")\n",
        "# ])\n",
        "\n",
        "# Model using different number of units per layer (8,16,32,64)\n",
        "\n",
        "# model = keras.Sequential([\n",
        "#     layers.Dense(64, activation=\"relu\"),\n",
        "#     layers.Dense(64, activation=\"relu\"),\n",
        "#     layers.Dense(1, activation=\"sigmoid\")\n",
        "# ])\n",
        "\n",
        "# Model using tanh activation function\n",
        "\n",
        "# model = keras.Sequential([\n",
        "#     layers.Dense(16, activation=\"tanh\"),\n",
        "#     layers.Dense(16, activation=\"tanh\"),\n",
        "#     layers.Dense(1, activation=\"sigmoid\")\n",
        "# ])\n",
        "\n",
        "# Model using regulization (L1:0.001,0.002,0.005,0.01; L2:0.001,0.002,0.005,0.01)\n",
        "\n",
        "# model = keras.Sequential([\n",
        "#     layers.Dense(16, kernel_regularizer=regularizers.L2(0.01), activation=\"relu\"),\n",
        "#     layers.Dense(16, kernel_regularizer=regularizers.L2(0.01), activation=\"relu\"),\n",
        "#     layers.Dense(1, activation=\"sigmoid\")\n",
        "# ])\n",
        "\n",
        "# Model using dropout (0.1,0.2,0.5,0.7)\n",
        "\n",
        "# model = keras.Sequential([\n",
        "#     layers.Dense(16, activation=\"relu\"),\n",
        "#     layers.Dropout(0.7),\n",
        "#     layers.Dense(16, activation=\"relu\"),\n",
        "#     layers.Dropout(0.7),\n",
        "#     layers.Dense(1, activation=\"sigmoid\")\n",
        "# ])\n",
        "\n",
        "# Model ensemble (1 layer, 64 nodes, regularizer.L2(0.002), dropout=0.5)\n",
        "\n",
        "# model = keras.Sequential([\n",
        "#     layers.Dense(64, kernel_regularizer=regularizers.L2(0.002), activation=\"relu\"),\n",
        "#     layers.Dropout(0.5),\n",
        "#     layers.Dense(1, activation=\"sigmoid\")\n",
        "# ])\n",
        "\n"
      ],
      "metadata": {
        "id": "JIchMXwZd7lL"
      },
      "execution_count": null,
      "outputs": []
    },
    {
      "cell_type": "code",
      "source": [
        "# Compiling the model\n",
        "\n",
        "# Model using rmsprop optimizer\n",
        "\n",
        "# model.compile(optimizer=\"rmsprop\",\n",
        "#               loss=\"binary_crossentropy\",\n",
        "#               metrics=[\"accuracy\"])\n",
        "\n",
        "# Using adam optimizer below\n",
        "\n",
        "# Model using binary_crossentropy loss function\n",
        "\n",
        "model.compile(optimizer=\"adam\",\n",
        "              loss=\"binary_crossentropy\",\n",
        "              metrics=[\"accuracy\"])\n",
        "\n",
        "# Model using mse loss function\n",
        "\n",
        "# model.compile(optimizer=\"adam\",\n",
        "#               loss=\"mse\",\n",
        "#               metrics=[\"accuracy\"])\n"
      ],
      "metadata": {
        "id": "TrnfzEIOd7xc"
      },
      "execution_count": null,
      "outputs": []
    },
    {
      "cell_type": "code",
      "source": [
        "# Training the model\n",
        "\n",
        "history = model.fit(partial_x_train,\n",
        "                    partial_y_train,\n",
        "                    epochs=20,\n",
        "                    batch_size=512,\n",
        "                    validation_data=(x_val, y_val))\n",
        "\n",
        "history_dict = history.history\n",
        "loss_values = history_dict[\"loss\"]\n",
        "val_loss_values = history_dict[\"val_loss\"]\n",
        "acc = history_dict[\"accuracy\"]\n",
        "val_acc = history_dict[\"val_accuracy\"]"
      ],
      "metadata": {
        "colab": {
          "base_uri": "https://localhost:8080/"
        },
        "id": "AIUAGhj4d73_",
        "outputId": "f8d03c76-5ad6-401e-9da0-600e9ad021c7"
      },
      "execution_count": null,
      "outputs": [
        {
          "output_type": "stream",
          "name": "stdout",
          "text": [
            "Epoch 1/20\n",
            "30/30 [==============================] - 2s 40ms/step - loss: 0.6080 - accuracy: 0.7036 - val_loss: 0.4703 - val_accuracy: 0.8459\n",
            "Epoch 2/20\n",
            "30/30 [==============================] - 0s 17ms/step - loss: 0.3557 - accuracy: 0.8907 - val_loss: 0.3172 - val_accuracy: 0.8842\n",
            "Epoch 3/20\n",
            "30/30 [==============================] - 1s 17ms/step - loss: 0.2300 - accuracy: 0.9253 - val_loss: 0.2796 - val_accuracy: 0.8916\n",
            "Epoch 4/20\n",
            "30/30 [==============================] - 1s 18ms/step - loss: 0.1685 - accuracy: 0.9482 - val_loss: 0.2783 - val_accuracy: 0.8881\n",
            "Epoch 5/20\n",
            "30/30 [==============================] - 1s 17ms/step - loss: 0.1286 - accuracy: 0.9626 - val_loss: 0.2872 - val_accuracy: 0.8867\n",
            "Epoch 6/20\n",
            "30/30 [==============================] - 1s 32ms/step - loss: 0.1001 - accuracy: 0.9729 - val_loss: 0.3065 - val_accuracy: 0.8834\n",
            "Epoch 7/20\n",
            "30/30 [==============================] - 2s 79ms/step - loss: 0.0760 - accuracy: 0.9827 - val_loss: 0.3326 - val_accuracy: 0.8818\n",
            "Epoch 8/20\n",
            "30/30 [==============================] - 1s 47ms/step - loss: 0.0588 - accuracy: 0.9884 - val_loss: 0.3612 - val_accuracy: 0.8775\n",
            "Epoch 9/20\n",
            "30/30 [==============================] - 1s 44ms/step - loss: 0.0434 - accuracy: 0.9929 - val_loss: 0.3876 - val_accuracy: 0.8774\n",
            "Epoch 10/20\n",
            "30/30 [==============================] - 1s 48ms/step - loss: 0.0326 - accuracy: 0.9963 - val_loss: 0.4171 - val_accuracy: 0.8750\n",
            "Epoch 11/20\n",
            "30/30 [==============================] - 1s 39ms/step - loss: 0.0239 - accuracy: 0.9979 - val_loss: 0.4436 - val_accuracy: 0.8748\n",
            "Epoch 12/20\n",
            "30/30 [==============================] - 1s 29ms/step - loss: 0.0181 - accuracy: 0.9990 - val_loss: 0.4693 - val_accuracy: 0.8734\n",
            "Epoch 13/20\n",
            "30/30 [==============================] - 1s 25ms/step - loss: 0.0139 - accuracy: 0.9994 - val_loss: 0.4949 - val_accuracy: 0.8729\n",
            "Epoch 14/20\n",
            "30/30 [==============================] - 1s 19ms/step - loss: 0.0109 - accuracy: 0.9999 - val_loss: 0.5188 - val_accuracy: 0.8710\n",
            "Epoch 15/20\n",
            "30/30 [==============================] - 1s 19ms/step - loss: 0.0086 - accuracy: 0.9999 - val_loss: 0.5407 - val_accuracy: 0.8713\n",
            "Epoch 16/20\n",
            "30/30 [==============================] - 1s 24ms/step - loss: 0.0069 - accuracy: 0.9999 - val_loss: 0.5606 - val_accuracy: 0.8709\n",
            "Epoch 17/20\n",
            "30/30 [==============================] - 1s 18ms/step - loss: 0.0057 - accuracy: 0.9999 - val_loss: 0.5793 - val_accuracy: 0.8709\n",
            "Epoch 18/20\n",
            "30/30 [==============================] - 1s 22ms/step - loss: 0.0047 - accuracy: 0.9999 - val_loss: 0.5950 - val_accuracy: 0.8706\n",
            "Epoch 19/20\n",
            "30/30 [==============================] - 1s 29ms/step - loss: 0.0039 - accuracy: 0.9999 - val_loss: 0.6102 - val_accuracy: 0.8706\n",
            "Epoch 20/20\n",
            "30/30 [==============================] - 1s 26ms/step - loss: 0.0033 - accuracy: 1.0000 - val_loss: 0.6278 - val_accuracy: 0.8696\n"
          ]
        }
      ]
    },
    {
      "cell_type": "code",
      "source": [
        "# Plotting the training and validation loss\n",
        "\n",
        "import matplotlib.pyplot as plt\n",
        "epochs = range(1, len(loss_values) + 1)\n",
        "plt.plot(epochs, loss_values, \"bo\", label=\"Training loss\")\n",
        "plt.plot(epochs, val_loss_values, \"b\", label=\"Validation loss\")\n",
        "plt.title(\"Training and validation loss\")\n",
        "plt.xlabel(\"Epochs\")\n",
        "plt.ylabel(\"Loss\")\n",
        "plt.legend()\n",
        "plt.show()"
      ],
      "metadata": {
        "colab": {
          "base_uri": "https://localhost:8080/",
          "height": 472
        },
        "id": "1Rm1ONsVemHT",
        "outputId": "11efffb6-cac7-4d73-80cc-944cde4ca1b0"
      },
      "execution_count": null,
      "outputs": [
        {
          "output_type": "display_data",
          "data": {
            "text/plain": [
              "<Figure size 640x480 with 1 Axes>"
            ],
            "image/png": "[encoded data removed]"
          },
          "metadata": {}
        }
      ]
    },
    {
      "cell_type": "code",
      "source": [
        "# Plotting the training and valication accuracy\n",
        "\n",
        "plt.clf()\n",
        "plt.plot(epochs, acc, \"bo\", label=\"Training acc\")\n",
        "plt.plot(epochs, val_acc, \"b\", label=\"Validation acc\")\n",
        "plt.title(\"Training and validation accuracy\")\n",
        "plt.xlabel(\"Epochs\")\n",
        "plt.ylabel(\"Accuracy\")\n",
        "plt.legend()\n",
        "plt.show()"
      ],
      "metadata": {
        "colab": {
          "base_uri": "https://localhost:8080/",
          "height": 472
        },
        "id": "jkzGx-_SexAJ",
        "outputId": "db1dd111-da68-463a-acfd-916a6d6062c9"
      },
      "execution_count": null,
      "outputs": [
        {
          "output_type": "display_data",
          "data": {
            "text/plain": [
              "<Figure size 640x480 with 1 Axes>"
            ],
            "image/png": "[encoded data removed]"
          },
          "metadata": {}
        }
      ]
    },
    {
      "cell_type": "code",
      "source": [
        "# Retraining the model from scratch\n",
        "\n",
        "model.fit(x_train, y_train, epochs=20, batch_size=512)\n",
        "results = model.evaluate(x_test, y_test)\n",
        "results"
      ],
      "metadata": {
        "colab": {
          "base_uri": "https://localhost:8080/"
        },
        "id": "yLeMndTze4DE",
        "outputId": "c4f15b7e-8cc3-445c-ec93-41c224021362"
      },
      "execution_count": null,
      "outputs": [
        {
          "output_type": "stream",
          "name": "stdout",
          "text": [
            "Epoch 1/20\n",
            "49/49 [==============================] - 1s 14ms/step - loss: 0.2160 - accuracy: 0.9416\n",
            "Epoch 2/20\n",
            "49/49 [==============================] - 1s 14ms/step - loss: 0.0958 - accuracy: 0.9700\n",
            "Epoch 3/20\n",
            "49/49 [==============================] - 1s 13ms/step - loss: 0.0579 - accuracy: 0.9848\n",
            "Epoch 4/20\n",
            "49/49 [==============================] - 1s 13ms/step - loss: 0.0390 - accuracy: 0.9926\n",
            "Epoch 5/20\n",
            "49/49 [==============================] - 1s 18ms/step - loss: 0.0264 - accuracy: 0.9959\n",
            "Epoch 6/20\n",
            "49/49 [==============================] - 1s 18ms/step - loss: 0.0187 - accuracy: 0.9978\n",
            "Epoch 7/20\n",
            "49/49 [==============================] - 1s 14ms/step - loss: 0.0133 - accuracy: 0.9990\n",
            "Epoch 8/20\n",
            "49/49 [==============================] - 1s 13ms/step - loss: 0.0098 - accuracy: 0.9994\n",
            "Epoch 9/20\n",
            "49/49 [==============================] - 1s 13ms/step - loss: 0.0075 - accuracy: 0.9996\n",
            "Epoch 10/20\n",
            "49/49 [==============================] - 1s 12ms/step - loss: 0.0058 - accuracy: 0.9998\n",
            "Epoch 11/20\n",
            "49/49 [==============================] - 1s 13ms/step - loss: 0.0047 - accuracy: 0.9999\n",
            "Epoch 12/20\n",
            "49/49 [==============================] - 1s 13ms/step - loss: 0.0038 - accuracy: 0.9999\n",
            "Epoch 13/20\n",
            "49/49 [==============================] - 1s 13ms/step - loss: 0.0032 - accuracy: 0.9999\n",
            "Epoch 14/20\n",
            "49/49 [==============================] - 1s 13ms/step - loss: 0.0027 - accuracy: 1.0000\n",
            "Epoch 15/20\n",
            "49/49 [==============================] - 1s 13ms/step - loss: 0.0023 - accuracy: 1.0000\n",
            "Epoch 16/20\n",
            "49/49 [==============================] - 1s 13ms/step - loss: 0.0020 - accuracy: 1.0000\n",
            "Epoch 17/20\n",
            "49/49 [==============================] - 1s 13ms/step - loss: 0.0018 - accuracy: 1.0000\n",
            "Epoch 18/20\n",
            "49/49 [==============================] - 1s 13ms/step - loss: 0.0016 - accuracy: 1.0000\n",
            "Epoch 19/20\n",
            "49/49 [==============================] - 1s 12ms/step - loss: 0.0014 - accuracy: 1.0000\n",
            "Epoch 20/20\n",
            "49/49 [==============================] - 1s 13ms/step - loss: 0.0012 - accuracy: 1.0000\n",
            "782/782 [==============================] - 1s 2ms/step - loss: 0.8651 - accuracy: 0.8565\n"
          ]
        },
        {
          "output_type": "execute_result",
          "data": {
            "text/plain": [
              "[0.8651052117347717, 0.8564800024032593]"
            ]
          },
          "metadata": {},
          "execution_count": 12
        }
      ]
    },
    {
      "cell_type": "code",
      "source": [
        "# Using the trained model to generate predictions\n",
        "\n",
        "predicted = model.predict(x_test)\n",
        "predicted_round = np.around(predicted, 0)\n",
        "error = predicted_round.flatten('C') - y_test.flatten('C')\n",
        "predicted_accuracy = 1. - np.sum(np.abs(error))/len(error)\n",
        "predicted_accuracy"
      ],
      "metadata": {
        "colab": {
          "base_uri": "https://localhost:8080/"
        },
        "id": "x9uDzJygfD0K",
        "outputId": "801da7bb-68b4-4c50-c78f-2ff9d90e1f1d"
      },
      "execution_count": null,
      "outputs": [
        {
          "output_type": "stream",
          "name": "stdout",
          "text": [
            "782/782 [==============================] - 2s 2ms/step\n"
          ]
        },
        {
          "output_type": "execute_result",
          "data": {
            "text/plain": [
              "0.85648"
            ]
          },
          "metadata": {},
          "execution_count": 13
        }
      ]
    }
  ]
}